{
 "cells": [
  {
   "cell_type": "code",
   "execution_count": 1,
   "metadata": {},
   "outputs": [],
   "source": [
    "import numpy as np\n",
    "import pandas as pd\n",
    "import matplotlib.pyplot as plt\n",
    "from matplotlib import style\n",
    "import seaborn as sns\n",
    "sns.set_style('whitegrid')\n",
    "import tensorflow as tf\n",
    "from sklearn.model_selection import train_test_split, cross_val_predict\n",
    "from sklearn.svm import SVC\n",
    "from sklearn.ensemble import RandomForestClassifier\n",
    "from sklearn.linear_model import SGDClassifier\n",
    "from sklearn.neighbors import KNeighborsClassifier\n",
    "from sklearn.naive_bayes import GaussianNB\n",
    "from sklearn.decomposition import PCA\n",
    "from xgboost import XGBClassifier\n",
    "from sklearn.preprocessing import LabelEncoder, MinMaxScaler\n",
    "from sklearn.metrics import confusion_matrix, precision_score, recall_score, f1_score\n",
    "import time\n",
    "import warnings\n",
    "warnings.filterwarnings(\"ignore\", category=DeprecationWarning)\n",
    "%matplotlib inline\n",
    "\n",
    "SMALL_SIZE = 10\n",
    "MEDIUM_SIZE = 12\n",
    "\n",
    "plt.rc('font', size=SMALL_SIZE)\n",
    "plt.rc('axes', titlesize=MEDIUM_SIZE)\n",
    "plt.rc('axes', labelsize=MEDIUM_SIZE)\n",
    "plt.rcParams['figure.dpi']=150"
   ]
  },
  {
   "cell_type": "code",
   "execution_count": 2,
   "metadata": {},
   "outputs": [],
   "source": [
    "sdss_df = pd.read_csv('data.csv', skiprows=0)"
   ]
  },
  {
   "cell_type": "code",
   "execution_count": 3,
   "metadata": {},
   "outputs": [
    {
     "data": {
      "text/html": [
       "<div>\n",
       "<style scoped>\n",
       "    .dataframe tbody tr th:only-of-type {\n",
       "        vertical-align: middle;\n",
       "    }\n",
       "\n",
       "    .dataframe tbody tr th {\n",
       "        vertical-align: top;\n",
       "    }\n",
       "\n",
       "    .dataframe thead th {\n",
       "        text-align: right;\n",
       "    }\n",
       "</style>\n",
       "<table border=\"1\" class=\"dataframe\">\n",
       "  <thead>\n",
       "    <tr style=\"text-align: right;\">\n",
       "      <th></th>\n",
       "      <th>objid</th>\n",
       "      <th>ra</th>\n",
       "      <th>dec</th>\n",
       "      <th>u</th>\n",
       "      <th>g</th>\n",
       "      <th>r</th>\n",
       "      <th>i</th>\n",
       "      <th>z</th>\n",
       "      <th>run</th>\n",
       "      <th>rerun</th>\n",
       "      <th>camcol</th>\n",
       "      <th>field</th>\n",
       "      <th>specobjid</th>\n",
       "      <th>class</th>\n",
       "      <th>redshift</th>\n",
       "      <th>plate</th>\n",
       "      <th>mjd</th>\n",
       "      <th>fiberid</th>\n",
       "    </tr>\n",
       "  </thead>\n",
       "  <tbody>\n",
       "    <tr>\n",
       "      <th>0</th>\n",
       "      <td>1.237680e+18</td>\n",
       "      <td>318.951692</td>\n",
       "      <td>9.315146</td>\n",
       "      <td>19.51665</td>\n",
       "      <td>18.50036</td>\n",
       "      <td>17.95667</td>\n",
       "      <td>17.53139</td>\n",
       "      <td>17.32035</td>\n",
       "      <td>7777</td>\n",
       "      <td>301</td>\n",
       "      <td>5</td>\n",
       "      <td>53</td>\n",
       "      <td>8.196580e+17</td>\n",
       "      <td>GALAXY</td>\n",
       "      <td>0.114299</td>\n",
       "      <td>728</td>\n",
       "      <td>52520</td>\n",
       "      <td>10</td>\n",
       "    </tr>\n",
       "    <tr>\n",
       "      <th>1</th>\n",
       "      <td>1.237670e+18</td>\n",
       "      <td>217.940002</td>\n",
       "      <td>14.608378</td>\n",
       "      <td>19.13548</td>\n",
       "      <td>18.55482</td>\n",
       "      <td>17.95603</td>\n",
       "      <td>17.68272</td>\n",
       "      <td>17.63717</td>\n",
       "      <td>5322</td>\n",
       "      <td>301</td>\n",
       "      <td>3</td>\n",
       "      <td>56</td>\n",
       "      <td>6.154250e+18</td>\n",
       "      <td>QSO</td>\n",
       "      <td>1.802680</td>\n",
       "      <td>5466</td>\n",
       "      <td>56033</td>\n",
       "      <td>304</td>\n",
       "    </tr>\n",
       "    <tr>\n",
       "      <th>2</th>\n",
       "      <td>1.237660e+18</td>\n",
       "      <td>129.948221</td>\n",
       "      <td>25.213328</td>\n",
       "      <td>19.54955</td>\n",
       "      <td>18.19434</td>\n",
       "      <td>17.83220</td>\n",
       "      <td>17.51329</td>\n",
       "      <td>17.47054</td>\n",
       "      <td>4335</td>\n",
       "      <td>301</td>\n",
       "      <td>3</td>\n",
       "      <td>130</td>\n",
       "      <td>2.173030e+18</td>\n",
       "      <td>GALAXY</td>\n",
       "      <td>0.070813</td>\n",
       "      <td>1930</td>\n",
       "      <td>53347</td>\n",
       "      <td>175</td>\n",
       "    </tr>\n",
       "    <tr>\n",
       "      <th>3</th>\n",
       "      <td>1.237650e+18</td>\n",
       "      <td>160.357788</td>\n",
       "      <td>3.567886</td>\n",
       "      <td>17.72343</td>\n",
       "      <td>16.65830</td>\n",
       "      <td>16.23667</td>\n",
       "      <td>16.07098</td>\n",
       "      <td>16.02797</td>\n",
       "      <td>2126</td>\n",
       "      <td>301</td>\n",
       "      <td>1</td>\n",
       "      <td>275</td>\n",
       "      <td>6.496480e+17</td>\n",
       "      <td>STAR</td>\n",
       "      <td>0.000570</td>\n",
       "      <td>577</td>\n",
       "      <td>52367</td>\n",
       "      <td>13</td>\n",
       "    </tr>\n",
       "    <tr>\n",
       "      <th>4</th>\n",
       "      <td>1.237660e+18</td>\n",
       "      <td>226.001700</td>\n",
       "      <td>38.619699</td>\n",
       "      <td>16.60500</td>\n",
       "      <td>15.66234</td>\n",
       "      <td>15.39406</td>\n",
       "      <td>15.29443</td>\n",
       "      <td>15.29302</td>\n",
       "      <td>3699</td>\n",
       "      <td>301</td>\n",
       "      <td>2</td>\n",
       "      <td>227</td>\n",
       "      <td>5.817650e+18</td>\n",
       "      <td>STAR</td>\n",
       "      <td>-0.000184</td>\n",
       "      <td>5167</td>\n",
       "      <td>56066</td>\n",
       "      <td>454</td>\n",
       "    </tr>\n",
       "  </tbody>\n",
       "</table>\n",
       "</div>"
      ],
      "text/plain": [
       "          objid          ra        dec         u         g         r  \\\n",
       "0  1.237680e+18  318.951692   9.315146  19.51665  18.50036  17.95667   \n",
       "1  1.237670e+18  217.940002  14.608378  19.13548  18.55482  17.95603   \n",
       "2  1.237660e+18  129.948221  25.213328  19.54955  18.19434  17.83220   \n",
       "3  1.237650e+18  160.357788   3.567886  17.72343  16.65830  16.23667   \n",
       "4  1.237660e+18  226.001700  38.619699  16.60500  15.66234  15.39406   \n",
       "\n",
       "          i         z   run  rerun  camcol  field     specobjid   class  \\\n",
       "0  17.53139  17.32035  7777    301       5     53  8.196580e+17  GALAXY   \n",
       "1  17.68272  17.63717  5322    301       3     56  6.154250e+18     QSO   \n",
       "2  17.51329  17.47054  4335    301       3    130  2.173030e+18  GALAXY   \n",
       "3  16.07098  16.02797  2126    301       1    275  6.496480e+17    STAR   \n",
       "4  15.29443  15.29302  3699    301       2    227  5.817650e+18    STAR   \n",
       "\n",
       "   redshift  plate    mjd  fiberid  \n",
       "0  0.114299    728  52520       10  \n",
       "1  1.802680   5466  56033      304  \n",
       "2  0.070813   1930  53347      175  \n",
       "3  0.000570    577  52367       13  \n",
       "4 -0.000184   5167  56066      454  "
      ]
     },
     "execution_count": 3,
     "metadata": {},
     "output_type": "execute_result"
    }
   ],
   "source": [
    "sdss_df.head()"
   ]
  },
  {
   "cell_type": "code",
   "execution_count": 4,
   "metadata": {},
   "outputs": [
    {
     "name": "stdout",
     "output_type": "stream",
     "text": [
      "<class 'pandas.core.frame.DataFrame'>\n",
      "RangeIndex: 9998 entries, 0 to 9997\n",
      "Data columns (total 18 columns):\n",
      "objid        9998 non-null float64\n",
      "ra           9998 non-null float64\n",
      "dec          9998 non-null float64\n",
      "u            9998 non-null float64\n",
      "g            9998 non-null float64\n",
      "r            9998 non-null float64\n",
      "i            9998 non-null float64\n",
      "z            9998 non-null float64\n",
      "run          9998 non-null int64\n",
      "rerun        9998 non-null int64\n",
      "camcol       9998 non-null int64\n",
      "field        9998 non-null int64\n",
      "specobjid    9998 non-null float64\n",
      "class        9998 non-null object\n",
      "redshift     9998 non-null float64\n",
      "plate        9998 non-null int64\n",
      "mjd          9998 non-null int64\n",
      "fiberid      9998 non-null int64\n",
      "dtypes: float64(10), int64(7), object(1)\n",
      "memory usage: 1.4+ MB\n"
     ]
    }
   ],
   "source": [
    "sdss_df.info()"
   ]
  },
  {
   "cell_type": "code",
   "execution_count": 5,
   "metadata": {},
   "outputs": [
    {
     "data": {
      "text/html": [
       "<div>\n",
       "<style scoped>\n",
       "    .dataframe tbody tr th:only-of-type {\n",
       "        vertical-align: middle;\n",
       "    }\n",
       "\n",
       "    .dataframe tbody tr th {\n",
       "        vertical-align: top;\n",
       "    }\n",
       "\n",
       "    .dataframe thead th {\n",
       "        text-align: right;\n",
       "    }\n",
       "</style>\n",
       "<table border=\"1\" class=\"dataframe\">\n",
       "  <thead>\n",
       "    <tr style=\"text-align: right;\">\n",
       "      <th></th>\n",
       "      <th>objid</th>\n",
       "      <th>ra</th>\n",
       "      <th>dec</th>\n",
       "      <th>u</th>\n",
       "      <th>g</th>\n",
       "      <th>r</th>\n",
       "      <th>i</th>\n",
       "      <th>z</th>\n",
       "      <th>run</th>\n",
       "      <th>rerun</th>\n",
       "      <th>camcol</th>\n",
       "      <th>field</th>\n",
       "      <th>specobjid</th>\n",
       "      <th>redshift</th>\n",
       "      <th>plate</th>\n",
       "      <th>mjd</th>\n",
       "      <th>fiberid</th>\n",
       "    </tr>\n",
       "  </thead>\n",
       "  <tbody>\n",
       "    <tr>\n",
       "      <th>count</th>\n",
       "      <td>9.998000e+03</td>\n",
       "      <td>9998.000000</td>\n",
       "      <td>9998.000000</td>\n",
       "      <td>9998.000000</td>\n",
       "      <td>9998.000000</td>\n",
       "      <td>9998.000000</td>\n",
       "      <td>9998.000000</td>\n",
       "      <td>9998.000000</td>\n",
       "      <td>9998.000000</td>\n",
       "      <td>9998.0</td>\n",
       "      <td>9998.000000</td>\n",
       "      <td>9998.000000</td>\n",
       "      <td>9.998000e+03</td>\n",
       "      <td>9998.000000</td>\n",
       "      <td>9998.000000</td>\n",
       "      <td>9998.000000</td>\n",
       "      <td>9998.000000</td>\n",
       "    </tr>\n",
       "    <tr>\n",
       "      <th>mean</th>\n",
       "      <td>1.237662e+18</td>\n",
       "      <td>179.122254</td>\n",
       "      <td>24.117965</td>\n",
       "      <td>18.640799</td>\n",
       "      <td>17.421133</td>\n",
       "      <td>16.905773</td>\n",
       "      <td>16.654447</td>\n",
       "      <td>16.502960</td>\n",
       "      <td>3977.065213</td>\n",
       "      <td>301.0</td>\n",
       "      <td>3.546109</td>\n",
       "      <td>191.064913</td>\n",
       "      <td>2.986349e+18</td>\n",
       "      <td>0.172984</td>\n",
       "      <td>2652.323065</td>\n",
       "      <td>53949.066713</td>\n",
       "      <td>358.427185</td>\n",
       "    </tr>\n",
       "    <tr>\n",
       "      <th>std</th>\n",
       "      <td>7.992930e+12</td>\n",
       "      <td>83.918589</td>\n",
       "      <td>20.121962</td>\n",
       "      <td>0.828646</td>\n",
       "      <td>0.981766</td>\n",
       "      <td>1.139697</td>\n",
       "      <td>1.213347</td>\n",
       "      <td>1.304838</td>\n",
       "      <td>1688.999836</td>\n",
       "      <td>0.0</td>\n",
       "      <td>1.582459</td>\n",
       "      <td>148.868036</td>\n",
       "      <td>2.572420e+18</td>\n",
       "      <td>0.451032</td>\n",
       "      <td>2284.753836</td>\n",
       "      <td>1573.673734</td>\n",
       "      <td>217.128529</td>\n",
       "    </tr>\n",
       "    <tr>\n",
       "      <th>min</th>\n",
       "      <td>1.237650e+18</td>\n",
       "      <td>0.072425</td>\n",
       "      <td>-16.867118</td>\n",
       "      <td>10.996230</td>\n",
       "      <td>10.511390</td>\n",
       "      <td>9.822070</td>\n",
       "      <td>9.469903</td>\n",
       "      <td>9.612333</td>\n",
       "      <td>109.000000</td>\n",
       "      <td>301.0</td>\n",
       "      <td>1.000000</td>\n",
       "      <td>11.000000</td>\n",
       "      <td>2.995190e+17</td>\n",
       "      <td>-0.003808</td>\n",
       "      <td>266.000000</td>\n",
       "      <td>51608.000000</td>\n",
       "      <td>1.000000</td>\n",
       "    </tr>\n",
       "    <tr>\n",
       "      <th>25%</th>\n",
       "      <td>1.237660e+18</td>\n",
       "      <td>131.837906</td>\n",
       "      <td>4.940035</td>\n",
       "      <td>18.210973</td>\n",
       "      <td>16.861110</td>\n",
       "      <td>16.212167</td>\n",
       "      <td>15.889470</td>\n",
       "      <td>15.643012</td>\n",
       "      <td>2830.000000</td>\n",
       "      <td>301.0</td>\n",
       "      <td>2.000000</td>\n",
       "      <td>85.000000</td>\n",
       "      <td>1.320715e+18</td>\n",
       "      <td>-0.000027</td>\n",
       "      <td>1173.000000</td>\n",
       "      <td>52734.250000</td>\n",
       "      <td>177.000000</td>\n",
       "    </tr>\n",
       "    <tr>\n",
       "      <th>50%</th>\n",
       "      <td>1.237660e+18</td>\n",
       "      <td>184.422091</td>\n",
       "      <td>23.773575</td>\n",
       "      <td>18.878195</td>\n",
       "      <td>17.519205</td>\n",
       "      <td>16.907610</td>\n",
       "      <td>16.612855</td>\n",
       "      <td>16.446770</td>\n",
       "      <td>3919.000000</td>\n",
       "      <td>301.0</td>\n",
       "      <td>4.000000</td>\n",
       "      <td>154.000000</td>\n",
       "      <td>2.394820e+18</td>\n",
       "      <td>0.040061</td>\n",
       "      <td>2127.000000</td>\n",
       "      <td>53762.000000</td>\n",
       "      <td>355.000000</td>\n",
       "    </tr>\n",
       "    <tr>\n",
       "      <th>75%</th>\n",
       "      <td>1.237670e+18</td>\n",
       "      <td>231.322095</td>\n",
       "      <td>39.591304</td>\n",
       "      <td>19.273183</td>\n",
       "      <td>18.054603</td>\n",
       "      <td>17.598655</td>\n",
       "      <td>17.376127</td>\n",
       "      <td>17.274305</td>\n",
       "      <td>5061.000000</td>\n",
       "      <td>301.0</td>\n",
       "      <td>5.000000</td>\n",
       "      <td>250.000000</td>\n",
       "      <td>3.310188e+18</td>\n",
       "      <td>0.093719</td>\n",
       "      <td>2940.000000</td>\n",
       "      <td>54629.000000</td>\n",
       "      <td>514.000000</td>\n",
       "    </tr>\n",
       "    <tr>\n",
       "      <th>max</th>\n",
       "      <td>1.237680e+18</td>\n",
       "      <td>359.999615</td>\n",
       "      <td>82.656319</td>\n",
       "      <td>19.599790</td>\n",
       "      <td>19.906420</td>\n",
       "      <td>29.571860</td>\n",
       "      <td>30.163590</td>\n",
       "      <td>29.383740</td>\n",
       "      <td>8158.000000</td>\n",
       "      <td>301.0</td>\n",
       "      <td>6.000000</td>\n",
       "      <td>977.000000</td>\n",
       "      <td>1.311790e+19</td>\n",
       "      <td>6.517635</td>\n",
       "      <td>11651.000000</td>\n",
       "      <td>58526.000000</td>\n",
       "      <td>1000.000000</td>\n",
       "    </tr>\n",
       "  </tbody>\n",
       "</table>\n",
       "</div>"
      ],
      "text/plain": [
       "              objid           ra          dec            u            g  \\\n",
       "count  9.998000e+03  9998.000000  9998.000000  9998.000000  9998.000000   \n",
       "mean   1.237662e+18   179.122254    24.117965    18.640799    17.421133   \n",
       "std    7.992930e+12    83.918589    20.121962     0.828646     0.981766   \n",
       "min    1.237650e+18     0.072425   -16.867118    10.996230    10.511390   \n",
       "25%    1.237660e+18   131.837906     4.940035    18.210973    16.861110   \n",
       "50%    1.237660e+18   184.422091    23.773575    18.878195    17.519205   \n",
       "75%    1.237670e+18   231.322095    39.591304    19.273183    18.054603   \n",
       "max    1.237680e+18   359.999615    82.656319    19.599790    19.906420   \n",
       "\n",
       "                 r            i            z          run   rerun  \\\n",
       "count  9998.000000  9998.000000  9998.000000  9998.000000  9998.0   \n",
       "mean     16.905773    16.654447    16.502960  3977.065213   301.0   \n",
       "std       1.139697     1.213347     1.304838  1688.999836     0.0   \n",
       "min       9.822070     9.469903     9.612333   109.000000   301.0   \n",
       "25%      16.212167    15.889470    15.643012  2830.000000   301.0   \n",
       "50%      16.907610    16.612855    16.446770  3919.000000   301.0   \n",
       "75%      17.598655    17.376127    17.274305  5061.000000   301.0   \n",
       "max      29.571860    30.163590    29.383740  8158.000000   301.0   \n",
       "\n",
       "            camcol        field     specobjid     redshift         plate  \\\n",
       "count  9998.000000  9998.000000  9.998000e+03  9998.000000   9998.000000   \n",
       "mean      3.546109   191.064913  2.986349e+18     0.172984   2652.323065   \n",
       "std       1.582459   148.868036  2.572420e+18     0.451032   2284.753836   \n",
       "min       1.000000    11.000000  2.995190e+17    -0.003808    266.000000   \n",
       "25%       2.000000    85.000000  1.320715e+18    -0.000027   1173.000000   \n",
       "50%       4.000000   154.000000  2.394820e+18     0.040061   2127.000000   \n",
       "75%       5.000000   250.000000  3.310188e+18     0.093719   2940.000000   \n",
       "max       6.000000   977.000000  1.311790e+19     6.517635  11651.000000   \n",
       "\n",
       "                mjd      fiberid  \n",
       "count   9998.000000  9998.000000  \n",
       "mean   53949.066713   358.427185  \n",
       "std     1573.673734   217.128529  \n",
       "min    51608.000000     1.000000  \n",
       "25%    52734.250000   177.000000  \n",
       "50%    53762.000000   355.000000  \n",
       "75%    54629.000000   514.000000  \n",
       "max    58526.000000  1000.000000  "
      ]
     },
     "execution_count": 5,
     "metadata": {},
     "output_type": "execute_result"
    }
   ],
   "source": [
    "sdss_df.describe()"
   ]
  },
  {
   "cell_type": "code",
   "execution_count": 6,
   "metadata": {},
   "outputs": [
    {
     "data": {
      "text/plain": [
       "GALAXY    4857\n",
       "STAR      4056\n",
       "QSO       1085\n",
       "Name: class, dtype: int64"
      ]
     },
     "execution_count": 6,
     "metadata": {},
     "output_type": "execute_result"
    }
   ],
   "source": [
    "sdss_df['class'].value_counts()"
   ]
  },
  {
   "cell_type": "code",
   "execution_count": 7,
   "metadata": {},
   "outputs": [
    {
     "data": {
      "text/plain": [
       "array(['objid', 'ra', 'dec', 'u', 'g', 'r', 'i', 'z', 'run', 'rerun',\n",
       "       'camcol', 'field', 'specobjid', 'class', 'redshift', 'plate',\n",
       "       'mjd', 'fiberid'], dtype=object)"
      ]
     },
     "execution_count": 7,
     "metadata": {},
     "output_type": "execute_result"
    }
   ],
   "source": [
    "sdss_df.columns.values"
   ]
  },
  {
   "cell_type": "code",
   "execution_count": 8,
   "metadata": {},
   "outputs": [
    {
     "data": {
      "text/html": [
       "<div>\n",
       "<style scoped>\n",
       "    .dataframe tbody tr th:only-of-type {\n",
       "        vertical-align: middle;\n",
       "    }\n",
       "\n",
       "    .dataframe tbody tr th {\n",
       "        vertical-align: top;\n",
       "    }\n",
       "\n",
       "    .dataframe thead th {\n",
       "        text-align: right;\n",
       "    }\n",
       "</style>\n",
       "<table border=\"1\" class=\"dataframe\">\n",
       "  <thead>\n",
       "    <tr style=\"text-align: right;\">\n",
       "      <th></th>\n",
       "      <th>ra</th>\n",
       "      <th>dec</th>\n",
       "      <th>u</th>\n",
       "      <th>g</th>\n",
       "      <th>r</th>\n",
       "      <th>i</th>\n",
       "      <th>z</th>\n",
       "      <th>class</th>\n",
       "      <th>redshift</th>\n",
       "      <th>plate</th>\n",
       "      <th>mjd</th>\n",
       "      <th>fiberid</th>\n",
       "    </tr>\n",
       "  </thead>\n",
       "  <tbody>\n",
       "    <tr>\n",
       "      <th>0</th>\n",
       "      <td>318.951692</td>\n",
       "      <td>9.315146</td>\n",
       "      <td>19.51665</td>\n",
       "      <td>18.50036</td>\n",
       "      <td>17.95667</td>\n",
       "      <td>17.53139</td>\n",
       "      <td>17.32035</td>\n",
       "      <td>GALAXY</td>\n",
       "      <td>0.114299</td>\n",
       "      <td>728</td>\n",
       "      <td>52520</td>\n",
       "      <td>10</td>\n",
       "    </tr>\n",
       "  </tbody>\n",
       "</table>\n",
       "</div>"
      ],
      "text/plain": [
       "           ra       dec         u         g         r         i         z  \\\n",
       "0  318.951692  9.315146  19.51665  18.50036  17.95667  17.53139  17.32035   \n",
       "\n",
       "    class  redshift  plate    mjd  fiberid  \n",
       "0  GALAXY  0.114299    728  52520       10  "
      ]
     },
     "execution_count": 8,
     "metadata": {},
     "output_type": "execute_result"
    }
   ],
   "source": [
    "sdss_df.drop(['objid', 'run', 'rerun', 'camcol', 'field', 'specobjid'], axis=1, inplace=True)\n",
    "sdss_df.head(1)"
   ]
  },
  {
   "cell_type": "code",
   "execution_count": 9,
   "metadata": {},
   "outputs": [
    {
     "data": {
      "image/png": "[encoded data removed]",
      "text/plain": [
       "<Figure size 1152x288 with 3 Axes>"
      ]
     },
     "metadata": {
      "needs_background": "light"
     },
     "output_type": "display_data"
    }
   ],
   "source": [
    "fig, axes = plt.subplots(nrows=1, ncols=3,figsize=(16, 4))\n",
    "ax = sns.distplot(sdss_df[sdss_df['class']=='STAR'].redshift, bins = 30, ax = axes[0], kde = False)\n",
    "ax.set_title('Star')\n",
    "ax = sns.distplot(sdss_df[sdss_df['class']=='GALAXY'].redshift, bins = 30, ax = axes[1], kde = False)\n",
    "ax.set_title('Galaxy')\n",
    "ax = sns.distplot(sdss_df[sdss_df['class']=='QSO'].redshift, bins = 30, ax = axes[2], kde = False)\n",
    "ax = ax.set_title('QSO')"
   ]
  },
  {
   "cell_type": "code",
   "execution_count": 10,
   "metadata": {},
   "outputs": [
    {
     "name": "stderr",
     "output_type": "stream",
     "text": [
      "C:\\Users\\AFA\\miniconda3\\envs\\jcopdl\\lib\\site-packages\\seaborn\\categorical.py:2612: UserWarning: The `lvplot` function has been renamed to `boxenplot`. The original name will be removed in a future release. Please update your code. \n",
      "  warnings.warn(msg)\n"
     ]
    },
    {
     "data": {
      "text/plain": [
       "Text(0.5, 1.0, 'dec')"
      ]
     },
     "execution_count": 10,
     "metadata": {},
     "output_type": "execute_result"
    },
    {
     "data": {
      "image/png": "[encoded data removed]",
      "text/plain": [
       "<Figure size 1152x288 with 1 Axes>"
      ]
     },
     "metadata": {
      "needs_background": "light"
     },
     "output_type": "display_data"
    }
   ],
   "source": [
    "fig, axes = plt.subplots(nrows=1, ncols=1,figsize=(16, 4))\n",
    "ax = sns.lvplot(x=sdss_df['class'], y=sdss_df['dec'], palette='coolwarm')\n",
    "ax.set_title('dec')"
   ]
  },
  {
   "cell_type": "code",
   "execution_count": 11,
   "metadata": {},
   "outputs": [
    {
     "data": {
      "image/png": "[encoded data removed]",
      "text/plain": [
       "<Figure size 1600x400 with 6 Axes>"
      ]
     },
     "metadata": {
      "needs_background": "light"
     },
     "output_type": "display_data"
    }
   ],
   "source": [
    "fig, axes = plt.subplots(nrows=1, ncols=3,figsize=(16, 4))\n",
    "fig.set_dpi(100)\n",
    "ax = sns.heatmap(sdss_df[sdss_df['class']=='STAR'][['u', 'g', 'r', 'i', 'z']].corr(), ax = axes[0], cmap='coolwarm')\n",
    "ax.set_title('Star')\n",
    "ax = sns.heatmap(sdss_df[sdss_df['class']=='GALAXY'][['u', 'g', 'r', 'i', 'z']].corr(), ax = axes[1], cmap='coolwarm')\n",
    "ax.set_title('Galaxy')\n",
    "ax = sns.heatmap(sdss_df[sdss_df['class']=='QSO'][['u', 'g', 'r', 'i', 'z']].corr(), ax = axes[2], cmap='coolwarm')\n",
    "ax = ax.set_title('QSO')"
   ]
  },
  {
   "cell_type": "code",
   "execution_count": 12,
   "metadata": {},
   "outputs": [
    {
     "name": "stderr",
     "output_type": "stream",
     "text": [
      "C:\\Users\\AFA\\miniconda3\\envs\\jcopdl\\lib\\site-packages\\seaborn\\regression.py:546: UserWarning: The `size` paramter has been renamed to `height`; please update your code.\n",
      "  warnings.warn(msg, UserWarning)\n"
     ]
    },
    {
     "data": {
      "text/plain": [
       "Text(0.5, 1, 'Equatorial coordinates')"
      ]
     },
     "execution_count": 12,
     "metadata": {},
     "output_type": "execute_result"
    },
    {
     "data": {
      "image/png": "[encoded data removed]",
      "text/plain": [
       "<Figure size 939.75x432 with 1 Axes>"
      ]
     },
     "metadata": {
      "needs_background": "light"
     },
     "output_type": "display_data"
    }
   ],
   "source": [
    "sns.lmplot(x='ra', y='dec', data=sdss_df, hue='class', fit_reg=False, palette='coolwarm', size=6, aspect=2)\n",
    "plt.title('Equatorial coordinates')"
   ]
  },
  {
   "cell_type": "code",
   "execution_count": 13,
   "metadata": {},
   "outputs": [
    {
     "data": {
      "text/html": [
       "<div>\n",
       "<style scoped>\n",
       "    .dataframe tbody tr th:only-of-type {\n",
       "        vertical-align: middle;\n",
       "    }\n",
       "\n",
       "    .dataframe tbody tr th {\n",
       "        vertical-align: top;\n",
       "    }\n",
       "\n",
       "    .dataframe thead th {\n",
       "        text-align: right;\n",
       "    }\n",
       "</style>\n",
       "<table border=\"1\" class=\"dataframe\">\n",
       "  <thead>\n",
       "    <tr style=\"text-align: right;\">\n",
       "      <th></th>\n",
       "      <th>ra</th>\n",
       "      <th>dec</th>\n",
       "      <th>class</th>\n",
       "      <th>redshift</th>\n",
       "      <th>plate</th>\n",
       "      <th>mjd</th>\n",
       "      <th>fiberid</th>\n",
       "      <th>PCA_1</th>\n",
       "      <th>PCA_2</th>\n",
       "      <th>PCA_3</th>\n",
       "    </tr>\n",
       "  </thead>\n",
       "  <tbody>\n",
       "    <tr>\n",
       "      <th>0</th>\n",
       "      <td>318.951692</td>\n",
       "      <td>9.315146</td>\n",
       "      <td>0</td>\n",
       "      <td>0.114299</td>\n",
       "      <td>728</td>\n",
       "      <td>52520</td>\n",
       "      <td>10</td>\n",
       "      <td>2.040666</td>\n",
       "      <td>-0.532123</td>\n",
       "      <td>-0.119189</td>\n",
       "    </tr>\n",
       "    <tr>\n",
       "      <th>1</th>\n",
       "      <td>217.940002</td>\n",
       "      <td>14.608378</td>\n",
       "      <td>1</td>\n",
       "      <td>1.802680</td>\n",
       "      <td>5466</td>\n",
       "      <td>56033</td>\n",
       "      <td>304</td>\n",
       "      <td>2.213847</td>\n",
       "      <td>-0.076968</td>\n",
       "      <td>-0.051734</td>\n",
       "    </tr>\n",
       "    <tr>\n",
       "      <th>2</th>\n",
       "      <td>129.948221</td>\n",
       "      <td>25.213328</td>\n",
       "      <td>0</td>\n",
       "      <td>0.070813</td>\n",
       "      <td>1930</td>\n",
       "      <td>53347</td>\n",
       "      <td>175</td>\n",
       "      <td>1.937776</td>\n",
       "      <td>-0.405284</td>\n",
       "      <td>0.107994</td>\n",
       "    </tr>\n",
       "    <tr>\n",
       "      <th>3</th>\n",
       "      <td>160.357788</td>\n",
       "      <td>3.567886</td>\n",
       "      <td>2</td>\n",
       "      <td>0.000570</td>\n",
       "      <td>577</td>\n",
       "      <td>52367</td>\n",
       "      <td>13</td>\n",
       "      <td>-1.408037</td>\n",
       "      <td>0.672906</td>\n",
       "      <td>0.019175</td>\n",
       "    </tr>\n",
       "    <tr>\n",
       "      <th>4</th>\n",
       "      <td>226.001700</td>\n",
       "      <td>38.619699</td>\n",
       "      <td>2</td>\n",
       "      <td>-0.000184</td>\n",
       "      <td>5167</td>\n",
       "      <td>56066</td>\n",
       "      <td>454</td>\n",
       "      <td>-3.280838</td>\n",
       "      <td>1.438459</td>\n",
       "      <td>-0.027978</td>\n",
       "    </tr>\n",
       "  </tbody>\n",
       "</table>\n",
       "</div>"
      ],
      "text/plain": [
       "           ra        dec  class  redshift  plate    mjd  fiberid     PCA_1  \\\n",
       "0  318.951692   9.315146      0  0.114299    728  52520       10  2.040666   \n",
       "1  217.940002  14.608378      1  1.802680   5466  56033      304  2.213847   \n",
       "2  129.948221  25.213328      0  0.070813   1930  53347      175  1.937776   \n",
       "3  160.357788   3.567886      2  0.000570    577  52367       13 -1.408037   \n",
       "4  226.001700  38.619699      2 -0.000184   5167  56066      454 -3.280838   \n",
       "\n",
       "      PCA_2     PCA_3  \n",
       "0 -0.532123 -0.119189  \n",
       "1 -0.076968 -0.051734  \n",
       "2 -0.405284  0.107994  \n",
       "3  0.672906  0.019175  \n",
       "4  1.438459 -0.027978  "
      ]
     },
     "execution_count": 13,
     "metadata": {},
     "output_type": "execute_result"
    }
   ],
   "source": [
    "sdss_df_fe = sdss_df\n",
    "\n",
    "# encode class labels to integers\n",
    "le = LabelEncoder()\n",
    "y_encoded = le.fit_transform(sdss_df_fe['class'])\n",
    "sdss_df_fe['class'] = y_encoded\n",
    "\n",
    "# Principal Component Analysis\n",
    "pca = PCA(n_components=3)\n",
    "ugriz = pca.fit_transform(sdss_df_fe[['u', 'g', 'r', 'i', 'z']])\n",
    "\n",
    "# update dataframe \n",
    "sdss_df_fe = pd.concat((sdss_df_fe, pd.DataFrame(ugriz)), axis=1)\n",
    "sdss_df_fe.rename({0: 'PCA_1', 1: 'PCA_2', 2: 'PCA_3'}, axis=1, inplace = True)\n",
    "sdss_df_fe.drop(['u', 'g', 'r', 'i', 'z'], axis=1, inplace=True)\n",
    "sdss_df_fe.head()"
   ]
  },
  {
   "cell_type": "code",
   "execution_count": 14,
   "metadata": {},
   "outputs": [],
   "source": [
    "scaler = MinMaxScaler()\n",
    "sdss = scaler.fit_transform(sdss_df_fe.drop('class', axis=1))"
   ]
  },
  {
   "cell_type": "code",
   "execution_count": 15,
   "metadata": {},
   "outputs": [],
   "source": [
    "X_train, X_test, y_train, y_test = train_test_split(sdss, sdss_df_fe['class'], test_size=0.33)"
   ]
  },
  {
   "cell_type": "markdown",
   "metadata": {},
   "source": [
    "# KNN"
   ]
  },
  {
   "cell_type": "code",
   "execution_count": 16,
   "metadata": {},
   "outputs": [
    {
     "name": "stdout",
     "output_type": "stream",
     "text": [
      "Scikit-Learn's K Nearest Neighbors Classifier's prediction accuracy is: 87.91\n",
      "Time consumed for training: 0.079 seconds\n",
      "Time consumed for prediction: 0.27465 seconds\n"
     ]
    }
   ],
   "source": [
    "knn = KNeighborsClassifier()\n",
    "training_start = time.perf_counter()\n",
    "knn.fit(X_train, y_train)\n",
    "training_end = time.perf_counter()\n",
    "prediction_start = time.perf_counter()\n",
    "preds = knn.predict(X_test)\n",
    "prediction_end = time.perf_counter()\n",
    "acc_knn = (preds == y_test).sum().astype(float) / len(preds)*100\n",
    "knn_train_time = training_end-training_start\n",
    "knn_prediction_time = prediction_end-prediction_start\n",
    "print(\"Scikit-Learn's K Nearest Neighbors Classifier's prediction accuracy is: %3.2f\" % (acc_knn))\n",
    "print(\"Time consumed for training: %4.3f seconds\" % (knn_train_time))\n",
    "print(\"Time consumed for prediction: %6.5f seconds\" % (knn_prediction_time))"
   ]
  },
  {
   "cell_type": "markdown",
   "metadata": {},
   "source": [
    "# Naive Bayes"
   ]
  },
  {
   "cell_type": "code",
   "execution_count": 17,
   "metadata": {},
   "outputs": [
    {
     "name": "stdout",
     "output_type": "stream",
     "text": [
      "Scikit-Learn's Gaussian Naive Bayes Classifier's prediction accuracy is: 98.27\n",
      "Time consumed for training: 0.054 seconds\n",
      "Time consumed for prediction: 0.00117 seconds\n"
     ]
    }
   ],
   "source": [
    "from sklearn.preprocessing import MaxAbsScaler\n",
    "scaler_gnb = MaxAbsScaler()\n",
    "sdss = scaler_gnb.fit_transform(sdss_df_fe.drop('class', axis=1))\n",
    "X_train_gnb, X_test_gnb, y_train_gnb, y_test_gnb = train_test_split(sdss, sdss_df_fe['class'], test_size=0.33)\n",
    "\n",
    "gnb = GaussianNB()\n",
    "training_start = time.perf_counter()\n",
    "gnb.fit(X_train_gnb, y_train_gnb)\n",
    "training_end = time.perf_counter()\n",
    "prediction_start = time.perf_counter()\n",
    "preds = gnb.predict(X_test_gnb)\n",
    "prediction_end = time.perf_counter()\n",
    "acc_gnb = (preds == y_test_gnb).sum().astype(float) / len(preds)*100\n",
    "gnb_train_time = training_end-training_start\n",
    "gnb_prediction_time = prediction_end-prediction_start\n",
    "print(\"Scikit-Learn's Gaussian Naive Bayes Classifier's prediction accuracy is: %3.2f\" % (acc_gnb))\n",
    "print(\"Time consumed for training: %4.3f seconds\" % (gnb_train_time))\n",
    "print(\"Time consumed for prediction: %6.5f seconds\" % (gnb_prediction_time))"
   ]
  },
  {
   "cell_type": "markdown",
   "metadata": {},
   "source": [
    "# XGBoost"
   ]
  },
  {
   "cell_type": "code",
   "execution_count": 18,
   "metadata": {},
   "outputs": [
    {
     "name": "stdout",
     "output_type": "stream",
     "text": [
      "XGBoost's prediction accuracy is: 99.30\n",
      "Time consumed for training: 1.767\n",
      "Time consumed for prediction: 0.02073 seconds\n"
     ]
    }
   ],
   "source": [
    "xgb = XGBClassifier(n_estimators=100)\n",
    "training_start = time.perf_counter()\n",
    "xgb.fit(X_train, y_train)\n",
    "training_end = time.perf_counter()\n",
    "prediction_start = time.perf_counter()\n",
    "preds = xgb.predict(X_test)\n",
    "prediction_end = time.perf_counter()\n",
    "acc_xgb = (preds == y_test).sum().astype(float) / len(preds)*100\n",
    "xgb_train_time = training_end-training_start\n",
    "xgb_prediction_time = prediction_end-prediction_start\n",
    "print(\"XGBoost's prediction accuracy is: %3.2f\" % (acc_xgb))\n",
    "print(\"Time consumed for training: %4.3f\" % (xgb_train_time))\n",
    "print(\"Time consumed for prediction: %6.5f seconds\" % (xgb_prediction_time))"
   ]
  },
  {
   "cell_type": "markdown",
   "metadata": {},
   "source": [
    "# Random Forest"
   ]
  },
  {
   "cell_type": "code",
   "execution_count": 19,
   "metadata": {},
   "outputs": [
    {
     "name": "stdout",
     "output_type": "stream",
     "text": [
      "Scikit-Learn's Random Forest Classifier's prediction accuracy is: 98.91\n",
      "Time consumed for training: 0.514 seconds\n",
      "Time consumed for prediction: 0.04278 seconds\n"
     ]
    }
   ],
   "source": [
    "rfc = RandomForestClassifier(n_estimators=10)\n",
    "training_start = time.perf_counter()\n",
    "rfc.fit(X_train, y_train)\n",
    "training_end = time.perf_counter()\n",
    "prediction_start = time.perf_counter()\n",
    "preds = rfc.predict(X_test)\n",
    "prediction_end = time.perf_counter()\n",
    "acc_rfc = (preds == y_test).sum().astype(float) / len(preds)*100\n",
    "rfc_train_time = training_end-training_start\n",
    "rfc_prediction_time = prediction_end-prediction_start\n",
    "print(\"Scikit-Learn's Random Forest Classifier's prediction accuracy is: %3.2f\" % (acc_rfc))\n",
    "print(\"Time consumed for training: %4.3f seconds\" % (rfc_train_time))\n",
    "print(\"Time consumed for prediction: %6.5f seconds\" % (rfc_prediction_time))"
   ]
  },
  {
   "cell_type": "markdown",
   "metadata": {},
   "source": [
    "# SVM"
   ]
  },
  {
   "cell_type": "code",
   "execution_count": 20,
   "metadata": {},
   "outputs": [
    {
     "name": "stdout",
     "output_type": "stream",
     "text": [
      "Scikit-Learn's Support Vector Machine Classifier's prediction accuracy is: 90.79\n",
      "Time consumed for training: 0.952 seconds\n",
      "Time consumed for prediction: 0.27397 seconds\n"
     ]
    }
   ],
   "source": [
    "svc = SVC()\n",
    "training_start = time.perf_counter()\n",
    "svc.fit(X_train, y_train)\n",
    "training_end = time.perf_counter()\n",
    "prediction_start = time.perf_counter()\n",
    "preds = svc.predict(X_test)\n",
    "prediction_end = time.perf_counter()\n",
    "acc_svc = (preds == y_test).sum().astype(float) / len(preds)*100\n",
    "svc_train_time = training_end-training_start\n",
    "svc_prediction_time = prediction_end-prediction_start\n",
    "print(\"Scikit-Learn's Support Vector Machine Classifier's prediction accuracy is: %3.2f\" % (acc_svc))\n",
    "print(\"Time consumed for training: %4.3f seconds\" % (svc_train_time))\n",
    "print(\"Time consumed for prediction: %6.5f seconds\" % (svc_prediction_time))"
   ]
  },
  {
   "cell_type": "markdown",
   "metadata": {},
   "source": [
    "# Compare"
   ]
  },
  {
   "cell_type": "code",
   "execution_count": 21,
   "metadata": {},
   "outputs": [
    {
     "data": {
      "text/html": [
       "<div>\n",
       "<style scoped>\n",
       "    .dataframe tbody tr th:only-of-type {\n",
       "        vertical-align: middle;\n",
       "    }\n",
       "\n",
       "    .dataframe tbody tr th {\n",
       "        vertical-align: top;\n",
       "    }\n",
       "\n",
       "    .dataframe thead th {\n",
       "        text-align: right;\n",
       "    }\n",
       "</style>\n",
       "<table border=\"1\" class=\"dataframe\">\n",
       "  <thead>\n",
       "    <tr style=\"text-align: right;\">\n",
       "      <th></th>\n",
       "      <th>Score</th>\n",
       "      <th>Runtime Training</th>\n",
       "      <th>Runtime Prediction</th>\n",
       "    </tr>\n",
       "    <tr>\n",
       "      <th>Model</th>\n",
       "      <th></th>\n",
       "      <th></th>\n",
       "      <th></th>\n",
       "    </tr>\n",
       "  </thead>\n",
       "  <tbody>\n",
       "    <tr>\n",
       "      <th>XGBoost</th>\n",
       "      <td>99.303030</td>\n",
       "      <td>1.766780</td>\n",
       "      <td>0.020733</td>\n",
       "    </tr>\n",
       "    <tr>\n",
       "      <th>Random Forest</th>\n",
       "      <td>98.909091</td>\n",
       "      <td>0.514340</td>\n",
       "      <td>0.042784</td>\n",
       "    </tr>\n",
       "    <tr>\n",
       "      <th>Naive Bayes</th>\n",
       "      <td>98.272727</td>\n",
       "      <td>0.053625</td>\n",
       "      <td>0.001168</td>\n",
       "    </tr>\n",
       "    <tr>\n",
       "      <th>SVC</th>\n",
       "      <td>90.787879</td>\n",
       "      <td>0.952336</td>\n",
       "      <td>0.273966</td>\n",
       "    </tr>\n",
       "    <tr>\n",
       "      <th>KNN</th>\n",
       "      <td>87.909091</td>\n",
       "      <td>0.078653</td>\n",
       "      <td>0.274646</td>\n",
       "    </tr>\n",
       "  </tbody>\n",
       "</table>\n",
       "</div>"
      ],
      "text/plain": [
       "                   Score  Runtime Training  Runtime Prediction\n",
       "Model                                                         \n",
       "XGBoost        99.303030          1.766780            0.020733\n",
       "Random Forest  98.909091          0.514340            0.042784\n",
       "Naive Bayes    98.272727          0.053625            0.001168\n",
       "SVC            90.787879          0.952336            0.273966\n",
       "KNN            87.909091          0.078653            0.274646"
      ]
     },
     "execution_count": 21,
     "metadata": {},
     "output_type": "execute_result"
    }
   ],
   "source": [
    "results = pd.DataFrame({\n",
    "    'Model': ['KNN', 'Naive Bayes', \n",
    "              'XGBoost', 'Random Forest', 'SVC'],\n",
    "    'Score': [acc_knn, acc_gnb, acc_xgb, acc_rfc, acc_svc],\n",
    "    'Runtime Training': [knn_train_time, gnb_train_time, xgb_train_time, rfc_train_time, \n",
    "                         svc_train_time],\n",
    "    'Runtime Prediction': [knn_prediction_time, gnb_prediction_time, xgb_prediction_time, rfc_prediction_time,\n",
    "                          svc_prediction_time]})\n",
    "result_df = results.sort_values(by='Score', ascending=False)\n",
    "result_df = result_df.set_index('Model')\n",
    "result_df"
   ]
  },
  {
   "cell_type": "markdown",
   "metadata": {},
   "source": [
    "# Kfold Validation"
   ]
  },
  {
   "cell_type": "markdown",
   "metadata": {},
   "source": [
    "## Random Forest"
   ]
  },
  {
   "cell_type": "code",
   "execution_count": 22,
   "metadata": {},
   "outputs": [
    {
     "name": "stdout",
     "output_type": "stream",
     "text": [
      "Scores: [0.98358209 0.98507463 0.99552239 0.99104478 0.98208955 0.98208955\n",
      " 0.98059701 0.98507463 0.99103139 0.98505232]\n",
      "Mean: 0.9861158333891081\n",
      "Standard Deviation: 0.004577541147677733\n"
     ]
    }
   ],
   "source": [
    "from sklearn.model_selection import cross_val_score\n",
    "rfc_cv = RandomForestClassifier(n_estimators=100)\n",
    "scores = cross_val_score(rfc_cv, X_train, y_train, cv=10, scoring = \"accuracy\")\n",
    "print(\"Scores:\", scores)\n",
    "print(\"Mean:\", scores.mean())\n",
    "print(\"Standard Deviation:\", scores.std())"
   ]
  },
  {
   "cell_type": "markdown",
   "metadata": {},
   "source": [
    "## XGBoost"
   ]
  },
  {
   "cell_type": "code",
   "execution_count": 23,
   "metadata": {},
   "outputs": [
    {
     "name": "stdout",
     "output_type": "stream",
     "text": [
      "Scores: [0.98507463 0.99104478 0.99552239 0.99253731 0.98955224 0.99104478\n",
      " 0.98208955 0.98656716 0.9955157  0.98804185]\n",
      "Mean: 0.9896990384400866\n",
      "Standard Deviation: 0.0041387030686928054\n"
     ]
    }
   ],
   "source": [
    "xgb_cv = XGBClassifier(n_estimators=100)\n",
    "scores = cross_val_score(xgb_cv, X_train, y_train, cv=10, scoring = \"accuracy\")\n",
    "print(\"Scores:\", scores)\n",
    "print(\"Mean:\", scores.mean())\n",
    "print(\"Standard Deviation:\", scores.std())"
   ]
  },
  {
   "cell_type": "code",
   "execution_count": 24,
   "metadata": {},
   "outputs": [
    {
     "data": {
      "text/html": [
       "<div>\n",
       "<style scoped>\n",
       "    .dataframe tbody tr th:only-of-type {\n",
       "        vertical-align: middle;\n",
       "    }\n",
       "\n",
       "    .dataframe tbody tr th {\n",
       "        vertical-align: top;\n",
       "    }\n",
       "\n",
       "    .dataframe thead th {\n",
       "        text-align: right;\n",
       "    }\n",
       "</style>\n",
       "<table border=\"1\" class=\"dataframe\">\n",
       "  <thead>\n",
       "    <tr style=\"text-align: right;\">\n",
       "      <th></th>\n",
       "      <th>Importance</th>\n",
       "    </tr>\n",
       "    <tr>\n",
       "      <th>Feature</th>\n",
       "      <th></th>\n",
       "    </tr>\n",
       "  </thead>\n",
       "  <tbody>\n",
       "    <tr>\n",
       "      <th>redshift</th>\n",
       "      <td>0.395054</td>\n",
       "    </tr>\n",
       "    <tr>\n",
       "      <th>PCA_3</th>\n",
       "      <td>0.167406</td>\n",
       "    </tr>\n",
       "    <tr>\n",
       "      <th>PCA_2</th>\n",
       "      <td>0.123018</td>\n",
       "    </tr>\n",
       "    <tr>\n",
       "      <th>PCA_1</th>\n",
       "      <td>0.076094</td>\n",
       "    </tr>\n",
       "    <tr>\n",
       "      <th>fiberid</th>\n",
       "      <td>0.067850</td>\n",
       "    </tr>\n",
       "    <tr>\n",
       "      <th>dec</th>\n",
       "      <td>0.058339</td>\n",
       "    </tr>\n",
       "    <tr>\n",
       "      <th>ra</th>\n",
       "      <td>0.055802</td>\n",
       "    </tr>\n",
       "    <tr>\n",
       "      <th>mjd</th>\n",
       "      <td>0.032340</td>\n",
       "    </tr>\n",
       "    <tr>\n",
       "      <th>plate</th>\n",
       "      <td>0.024096</td>\n",
       "    </tr>\n",
       "  </tbody>\n",
       "</table>\n",
       "</div>"
      ],
      "text/plain": [
       "          Importance\n",
       "Feature             \n",
       "redshift    0.395054\n",
       "PCA_3       0.167406\n",
       "PCA_2       0.123018\n",
       "PCA_1       0.076094\n",
       "fiberid     0.067850\n",
       "dec         0.058339\n",
       "ra          0.055802\n",
       "mjd         0.032340\n",
       "plate       0.024096"
      ]
     },
     "execution_count": 24,
     "metadata": {},
     "output_type": "execute_result"
    }
   ],
   "source": [
    "importances = pd.DataFrame({\n",
    "    'Feature': sdss_df_fe.drop('class', axis=1).columns,\n",
    "    'Importance': xgb.feature_importances_\n",
    "})\n",
    "importances = importances.sort_values(by='Importance', ascending=False)\n",
    "importances = importances.set_index('Feature')\n",
    "importances"
   ]
  },
  {
   "cell_type": "code",
   "execution_count": 25,
   "metadata": {},
   "outputs": [
    {
     "data": {
      "text/plain": [
       "<matplotlib.axes._subplots.AxesSubplot at 0x1d095d48>"
      ]
     },
     "execution_count": 25,
     "metadata": {},
     "output_type": "execute_result"
    },
    {
     "data": {
      "image/png": "[encoded data removed]",
      "text/plain": [
       "<Figure size 432x288 with 1 Axes>"
      ]
     },
     "metadata": {
      "needs_background": "light"
     },
     "output_type": "display_data"
    }
   ],
   "source": [
    "importances.plot.bar()"
   ]
  },
  {
   "cell_type": "code",
   "execution_count": 27,
   "metadata": {},
   "outputs": [],
   "source": [
    "scaler = MinMaxScaler()\n",
    "sdss = pd.DataFrame(scaler.fit_transform(sdss_df_fe.drop(['mjd', 'class'], axis=1)), columns=sdss_df_fe.drop(['mjd', 'class'], axis=1).columns)\n",
    "sdss['class'] = sdss_df_fe['class']"
   ]
  },
  {
   "cell_type": "code",
   "execution_count": 28,
   "metadata": {},
   "outputs": [
    {
     "data": {
      "text/html": [
       "<div>\n",
       "<style scoped>\n",
       "    .dataframe tbody tr th:only-of-type {\n",
       "        vertical-align: middle;\n",
       "    }\n",
       "\n",
       "    .dataframe tbody tr th {\n",
       "        vertical-align: top;\n",
       "    }\n",
       "\n",
       "    .dataframe thead th {\n",
       "        text-align: right;\n",
       "    }\n",
       "</style>\n",
       "<table border=\"1\" class=\"dataframe\">\n",
       "  <thead>\n",
       "    <tr style=\"text-align: right;\">\n",
       "      <th></th>\n",
       "      <th>ra</th>\n",
       "      <th>dec</th>\n",
       "      <th>redshift</th>\n",
       "      <th>plate</th>\n",
       "      <th>fiberid</th>\n",
       "      <th>PCA_1</th>\n",
       "      <th>PCA_2</th>\n",
       "      <th>PCA_3</th>\n",
       "      <th>class</th>\n",
       "    </tr>\n",
       "  </thead>\n",
       "  <tbody>\n",
       "    <tr>\n",
       "      <th>0</th>\n",
       "      <td>0.885955</td>\n",
       "      <td>0.263076</td>\n",
       "      <td>0.018111</td>\n",
       "      <td>0.040580</td>\n",
       "      <td>0.009009</td>\n",
       "      <td>0.559418</td>\n",
       "      <td>0.190960</td>\n",
       "      <td>0.434917</td>\n",
       "      <td>0</td>\n",
       "    </tr>\n",
       "    <tr>\n",
       "      <th>1</th>\n",
       "      <td>0.605310</td>\n",
       "      <td>0.316262</td>\n",
       "      <td>0.277007</td>\n",
       "      <td>0.456741</td>\n",
       "      <td>0.303303</td>\n",
       "      <td>0.565255</td>\n",
       "      <td>0.237753</td>\n",
       "      <td>0.438895</td>\n",
       "      <td>1</td>\n",
       "    </tr>\n",
       "    <tr>\n",
       "      <th>2</th>\n",
       "      <td>0.360839</td>\n",
       "      <td>0.422819</td>\n",
       "      <td>0.011442</td>\n",
       "      <td>0.146157</td>\n",
       "      <td>0.174174</td>\n",
       "      <td>0.555949</td>\n",
       "      <td>0.204000</td>\n",
       "      <td>0.448313</td>\n",
       "      <td>0</td>\n",
       "    </tr>\n",
       "    <tr>\n",
       "      <th>3</th>\n",
       "      <td>0.445327</td>\n",
       "      <td>0.205329</td>\n",
       "      <td>0.000671</td>\n",
       "      <td>0.027317</td>\n",
       "      <td>0.012012</td>\n",
       "      <td>0.443165</td>\n",
       "      <td>0.314846</td>\n",
       "      <td>0.443076</td>\n",
       "      <td>2</td>\n",
       "    </tr>\n",
       "    <tr>\n",
       "      <th>4</th>\n",
       "      <td>0.627708</td>\n",
       "      <td>0.557525</td>\n",
       "      <td>0.000556</td>\n",
       "      <td>0.430479</td>\n",
       "      <td>0.453453</td>\n",
       "      <td>0.380035</td>\n",
       "      <td>0.393551</td>\n",
       "      <td>0.440295</td>\n",
       "      <td>2</td>\n",
       "    </tr>\n",
       "  </tbody>\n",
       "</table>\n",
       "</div>"
      ],
      "text/plain": [
       "         ra       dec  redshift     plate   fiberid     PCA_1     PCA_2  \\\n",
       "0  0.885955  0.263076  0.018111  0.040580  0.009009  0.559418  0.190960   \n",
       "1  0.605310  0.316262  0.277007  0.456741  0.303303  0.565255  0.237753   \n",
       "2  0.360839  0.422819  0.011442  0.146157  0.174174  0.555949  0.204000   \n",
       "3  0.445327  0.205329  0.000671  0.027317  0.012012  0.443165  0.314846   \n",
       "4  0.627708  0.557525  0.000556  0.430479  0.453453  0.380035  0.393551   \n",
       "\n",
       "      PCA_3  class  \n",
       "0  0.434917      0  \n",
       "1  0.438895      1  \n",
       "2  0.448313      0  \n",
       "3  0.443076      2  \n",
       "4  0.440295      2  "
      ]
     },
     "execution_count": 28,
     "metadata": {},
     "output_type": "execute_result"
    }
   ],
   "source": [
    "sdss.head()"
   ]
  },
  {
   "cell_type": "code",
   "execution_count": 29,
   "metadata": {},
   "outputs": [],
   "source": [
    "sdss.to_csv('sdss_data.csv')"
   ]
  },
  {
   "cell_type": "markdown",
   "metadata": {},
   "source": [
    "# Testing XGBoost Hyperparameter"
   ]
  },
  {
   "cell_type": "code",
   "execution_count": 30,
   "metadata": {},
   "outputs": [],
   "source": [
    "X_train, X_test, y_train, y_test = train_test_split(sdss.drop('class', axis=1), sdss['class'],\n",
    "                                                   test_size=0.33)"
   ]
  },
  {
   "cell_type": "code",
   "execution_count": 31,
   "metadata": {},
   "outputs": [
    {
     "name": "stdout",
     "output_type": "stream",
     "text": [
      "XGBoost's prediction accuracy WITH optimal hyperparameters is: 98.85\n"
     ]
    }
   ],
   "source": [
    "xgboost = XGBClassifier(max_depth=5, learning_rate=0.01, n_estimators=100, gamma=0, \n",
    "                        min_child_weight=1, subsample=0.8, colsample_bytree=0.8, reg_alpha=0.005)\n",
    "\n",
    "xgboost.fit(X_train, y_train)\n",
    "preds = xgboost.predict(X_test)\n",
    "\n",
    "accuracy = (preds == y_test).sum().astype(float) / len(preds)*100\n",
    "\n",
    "print(\"XGBoost's prediction accuracy WITH optimal hyperparameters is: %3.2f\" % (accuracy))"
   ]
  },
  {
   "cell_type": "code",
   "execution_count": 32,
   "metadata": {},
   "outputs": [
    {
     "name": "stdout",
     "output_type": "stream",
     "text": [
      "Scores: [0.98955224 0.99701493 0.9880597  0.99253731 0.98955224 0.99253731\n",
      " 0.99253731 0.9880597  0.98505232 0.99850523]\n",
      "Mean: 0.9913408294848628\n",
      "Standard Deviation: 0.003940734072332523\n"
     ]
    }
   ],
   "source": [
    "xgb_cv = XGBClassifier(n_estimators=100)\n",
    "scores = cross_val_score(xgb_cv, X_train, y_train, cv=10, scoring = \"accuracy\")\n",
    "print(\"Scores:\", scores)\n",
    "print(\"Mean:\", scores.mean())\n",
    "print(\"Standard Deviation:\", scores.std())"
   ]
  },
  {
   "cell_type": "markdown",
   "metadata": {},
   "source": [
    "# XGBoost Evaluation"
   ]
  },
  {
   "cell_type": "code",
   "execution_count": 33,
   "metadata": {},
   "outputs": [
    {
     "data": {
      "text/plain": [
       "{0: 4857, 1: 1085, 2: 4056}"
      ]
     },
     "execution_count": 33,
     "metadata": {},
     "output_type": "execute_result"
    }
   ],
   "source": [
    "unique, counts = np.unique(sdss['class'], return_counts=True)\n",
    "dict(zip(unique, counts))"
   ]
  },
  {
   "cell_type": "code",
   "execution_count": 34,
   "metadata": {},
   "outputs": [
    {
     "data": {
      "text/plain": [
       "array([[4825,   23,    9],\n",
       "       [  56, 1028,    1],\n",
       "       [   4,    0, 4052]], dtype=int64)"
      ]
     },
     "execution_count": 34,
     "metadata": {},
     "output_type": "execute_result"
    }
   ],
   "source": [
    "predictions = cross_val_predict(xgb, sdss.drop('class', axis=1), sdss['class'], cv=3)\n",
    "confusion_matrix(sdss['class'], predictions)"
   ]
  },
  {
   "cell_type": "code",
   "execution_count": 35,
   "metadata": {},
   "outputs": [
    {
     "name": "stdout",
     "output_type": "stream",
     "text": [
      "Precision: 0.9906981396279256\n",
      "Recall: 0.9906981396279256\n"
     ]
    }
   ],
   "source": [
    "print(\"Precision:\", precision_score(sdss['class'], predictions, average='micro'))\n",
    "print(\"Recall:\",recall_score(sdss['class'], predictions, average='micro'))"
   ]
  },
  {
   "cell_type": "code",
   "execution_count": 36,
   "metadata": {},
   "outputs": [
    {
     "name": "stdout",
     "output_type": "stream",
     "text": [
      "F1-Score: 0.9906981396279256\n"
     ]
    }
   ],
   "source": [
    "print(\"F1-Score:\", f1_score(sdss['class'], predictions, average='micro'))"
   ]
  },
  {
   "cell_type": "code",
   "execution_count": null,
   "metadata": {},
   "outputs": [],
   "source": []
  }
 ],
 "metadata": {
  "kernelspec": {
   "display_name": "Python [conda env:jcopdl]",
   "language": "python",
   "name": "conda-env-jcopdl-py"
  },
  "language_info": {
   "codemirror_mode": {
    "name": "ipython",
    "version": 3
   },
   "file_extension": ".py",
   "mimetype": "text/x-python",
   "name": "python",
   "nbconvert_exporter": "python",
   "pygments_lexer": "ipython3",
   "version": "3.7.6"
  }
 },
 "nbformat": 4,
 "nbformat_minor": 4
}
